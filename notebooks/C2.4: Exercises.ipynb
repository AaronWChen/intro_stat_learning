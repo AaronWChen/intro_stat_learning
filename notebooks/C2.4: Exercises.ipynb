{
 "cells": [
  {
   "cell_type": "markdown",
   "metadata": {},
   "source": [
    "# 2.4 Exercises\n",
    "\n",
    "This notebook file is intended to be a solution set of the exercises with translation of the R code included in Chapter 2."
   ]
  },
  {
   "cell_type": "markdown",
   "metadata": {},
   "source": [
    "\n",
    "## Installation\n",
    "There are multiple ways to get a notebook environment working. The easiest is probably to install Anaconda and work off of that premade setup.\n",
    "\n",
    "However, I personally recommend using ASDF to install versions of Python and using Poetry to manage package dependencies. This is because I tend to use separate environments for each project I'm working on (including this one) and I previously had problems with `conda` installs.\n",
    "\n",
    "Please look at the README.md in the base of the repository to see how to install things.\n"
   ]
  },
  {
   "cell_type": "markdown",
   "metadata": {},
   "source": [
    "## Import necessary libraries\n",
    "Python is handy but doesn't appear to have the same functionality as built into R. To better address matrix math and statistical calculations, I will be using numpy, pandas, and scipy (specifically the stats module from scipy)"
   ]
  },
  {
   "cell_type": "code",
   "execution_count": 1,
   "metadata": {},
   "outputs": [],
   "source": [
    "import pandas as pd"
   ]
  },
  {
   "cell_type": "markdown",
   "metadata": {},
   "source": [
    "### Problem Number 8\n",
    "Uses `College` dataset in `College.csv`"
   ]
  },
  {
   "cell_type": "markdown",
   "metadata": {},
   "source": [
    "From the problem statement, the variables are defined as: \n",
    "\n",
    "• Private : Public/private indicator\n",
    "\n",
    "• Apps : Number of applications received\n",
    "\n",
    "• Accept : Number of applicants accepted\n",
    "\n",
    "• Enroll : Number of new students enrolled\n",
    "\n",
    "• Top10perc : New students from top 10 % of high school class\n",
    "\n",
    "• Top25perc : New students from top 25 % of high school class\n",
    "\n",
    "• F.Undergrad : Number of full-time undergraduates\n",
    "\n",
    "• P.Undergrad : Number of part-time undergraduates\n",
    "\n",
    "• Outstate : Out-of-state tuition\n",
    "\n",
    "• Room.Board : Room and board costs\n",
    "\n",
    "• Books : Estimated book costs\n",
    "\n",
    "• Personal : Estimated personal spending\n",
    "\n",
    "• PhD : Percent of faculty with Ph.D.’s\n",
    "\n",
    "• Terminal : Percent of faculty with terminal degree\n",
    "\n",
    "• S.F.Ratio : Student/faculty ratio\n",
    "\n",
    "• perc.alumni : Percent of alumni who donate\n",
    "\n",
    "• Expend : Instructional expenditure per student\n",
    "\n",
    "• Grad.Rate : Graduation rate"
   ]
  },
  {
   "cell_type": "markdown",
   "metadata": {},
   "source": [
    "(a) Use the read.csv() function to read the data into R. Call the\n",
    "loaded data college. Make sure that you have the directory set\n",
    "to the correct location for the data.\n",
    "\n",
    "(b) Look at the data using the View() function. You should notice\n",
    "that the first column is just the name of each university. We don’t\n",
    "really want R to treat this as data. However, it may be handy to\n",
    "have these names for later. Try the following commands:"
   ]
  },
  {
   "cell_type": "markdown",
   "metadata": {},
   "source": [
    "(c) i. Use the `describe()` function to produce a numerical summary\n",
    "of the variables in the data set."
   ]
  },
  {
   "cell_type": "markdown",
   "metadata": {},
   "source": [
    "(c) ii. Use the `plotting.scatter_matrix()` function to produce a scatterplot matrix of\n",
    "the first ten columns or variables of the data. Recall that\n",
    "you can reference the first ten columns of a matrix A using\n",
    "`A.iloc[1:10]`."
   ]
  },
  {
   "cell_type": "markdown",
   "metadata": {},
   "source": [
    "(c) iii. Use the `boxplot()` function to produce side-by-side boxplots of\n",
    "Outstate versus Private."
   ]
  },
  {
   "cell_type": "markdown",
   "metadata": {},
   "source": [
    "(c) \n",
    "iv. Create a new qualitative variable, called `Elite`, by binning\n",
    "the `Top10perc` variable. We are going to divide universities\n",
    "into two groups based on whether or not the proportion\n",
    "of students coming from the top 10 % of their high school\n",
    "classes exceeds 50 %.\n",
    "\n",
    "```> Elite <- rep (\"No\", nrow (college))```\n",
    "\n",
    "```> Elite[college$Top10perc > 50] <- \" Yes \"```\n",
    "\n",
    "```> Elite <- as. factor (Elite)```\n",
    "\n",
    "```> college <- data . frame (college , Elite)```\n",
    "\n",
    "Use the `shape` function to see how many elite universities there are. Now use the `boxplot()` function to produce\n",
    "side-by-side boxplots of Outstate versus Elite."
   ]
  },
  {
   "cell_type": "markdown",
   "metadata": {},
   "source": [
    "(c) v. Use the `hist()` function to produce some histograms with\n",
    "differing numbers of bins for a few of the quantitative variables. \n",
    "\n",
    "The original question stated: \n",
    "\n",
    "```You may find the command par(mfrow = c(2, 2))\n",
    "useful: it will divide the print window into four regions so\n",
    "that four plots can be made simultaneously. Modifying the\n",
    "arguments to this function will divide the screen in other\n",
    "ways.```\n",
    "\n",
    "However, pandas histogram plotting already dynamically and automatically assigns the number of bins for each variable, and plots all of the histograms simultaneously.\n"
   ]
  },
  {
   "cell_type": "markdown",
   "metadata": {},
   "source": [
    "(c) vi. Continue exploring the data, and provide a brief summary\n",
    "of what you discover."
   ]
  },
  {
   "cell_type": "markdown",
   "metadata": {},
   "source": [
    "---"
   ]
  },
  {
   "cell_type": "markdown",
   "metadata": {},
   "source": [
    "## Problem Number 9\n",
    "Uses `Auto` dataset from lab, make sure that the missing values have been removed from the data"
   ]
  },
  {
   "cell_type": "markdown",
   "metadata": {},
   "source": [
    "(a) Which of the predictors are quantitative, and which are qualitative?\n",
    "\n",
    "Quantitative:\n",
    "1. mpg\n",
    "2. displacement\n",
    "3. horsepower\n",
    "4. weight\n",
    "5. acceleration\n",
    "6. year\n",
    "\n",
    "Qualitative\n",
    "1. cylinders\n",
    "2. origin"
   ]
  },
  {
   "cell_type": "markdown",
   "metadata": {},
   "source": [
    "(b) What is the range of each quantitative predictor? You can answer this using the `describe()` function. Or by using the `min()` and `max()` functions"
   ]
  },
  {
   "cell_type": "markdown",
   "metadata": {},
   "source": [
    "(c) What is the mean and standard deviation of each quantitative\n",
    "predictor? This is also in `describe()` but you can use `mean()` and `std()`."
   ]
  },
  {
   "cell_type": "markdown",
   "metadata": {},
   "source": [
    "(d) Now remove the 10th through 85th observations. What is the\n",
    "range, mean, and standard deviation of each predictor in the\n",
    "subset of the data that remains?"
   ]
  },
  {
   "cell_type": "markdown",
   "metadata": {},
   "source": [
    "(e) Using the full data set, investigate the predictors graphically,\n",
    "using scatterplots or other tools of your choice. Create some plots\n",
    "highlighting the relationships among the predictors. Comment\n",
    "on your findings.\n",
    "\n"
   ]
  },
  {
   "cell_type": "markdown",
   "metadata": {},
   "source": [
    "(f) Suppose that we wish to predict gas mileage (mpg) on the basis\n",
    "of the other variables. Do your plots suggest that any of the\n",
    "other variables might be useful in predicting mpg? Justify your\n",
    "answer."
   ]
  },
  {
   "cell_type": "markdown",
   "metadata": {},
   "source": [
    "## Problem Number 10\n",
    "Uses `Boston` housing dataset"
   ]
  },
  {
   "cell_type": "markdown",
   "metadata": {},
   "source": [
    "(a) To begin, load in the Boston data set. The Boston data set is\n",
    "part of the ISLR2 library. \n",
    "\n",
    "For the original problem set, the following applies:\n",
    "\n",
    "> library (ISLR2)\n",
    "\n",
    "Now the data set is contained in the object Boston.\n",
    "\n",
    "> Boston\n",
    "\n",
    "Read about the data set:\n",
    "\n",
    "> ?Boston\n",
    "\n",
    "How many rows are in this data set? How many columns? What\n",
    "do the rows and columns represent?\n",
    "\n",
    "(b) Make some pairwise scatterplots of the predictors (columns) in\n",
    "this data set. Describe your findings.\n",
    "\n",
    "\n",
    "But we're just loading the CSV and are missing the metadata/explanation"
   ]
  },
  {
   "cell_type": "markdown",
   "metadata": {},
   "source": [
    "\n",
    "(c) Are any of the predictors associated with per capita crime rate?\n",
    "If so, explain the relationship.\n"
   ]
  },
  {
   "cell_type": "markdown",
   "metadata": {},
   "source": [
    "(d) Do any of the census tracts of Boston appear to have particularly\n",
    "high crime rates? Tax rates? Pupil-teacher ratios? Comment on\n",
    "the range of each predictor.\n"
   ]
  },
  {
   "cell_type": "markdown",
   "metadata": {},
   "source": [
    "(e) How many of the census tracts in this data set bound the Charles\n",
    "river?\n"
   ]
  },
  {
   "cell_type": "markdown",
   "metadata": {},
   "source": [
    "(f) What is the median pupil-teacher ratio among the towns in this\n",
    "data set?\n"
   ]
  },
  {
   "cell_type": "markdown",
   "metadata": {},
   "source": [
    "(g) Which census tract of Boston has lowest median value of owner occupied homes? What are the values of the other predictors\n",
    "for that census tract, and how do those values compare to the\n",
    "overall ranges for those predictors? Comment on your findings.\n"
   ]
  },
  {
   "cell_type": "markdown",
   "metadata": {},
   "source": [
    "(h) In this data set, how many of the census tracts average more\n",
    "than seven rooms per dwelling? More than eight rooms per\n",
    "dwelling? Comment on the census tracts that average more than\n",
    "eight rooms per dwelling."
   ]
  }
 ],
 "metadata": {
  "interpreter": {
   "hash": "5669dfe12a2d82aa1b3191b510b728236d6d281b189b67e61730db0cb7f185c6"
  },
  "kernelspec": {
   "display_name": "Python 3.8.12 64-bit",
   "language": "python",
   "name": "python3"
  },
  "language_info": {
   "codemirror_mode": {
    "name": "ipython",
    "version": 3
   },
   "file_extension": ".py",
   "mimetype": "text/x-python",
   "name": "python",
   "nbconvert_exporter": "python",
   "pygments_lexer": "ipython3",
   "version": "3.8.12"
  },
  "orig_nbformat": 4
 },
 "nbformat": 4,
 "nbformat_minor": 2
}
