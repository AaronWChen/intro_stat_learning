{
 "cells": [
  {
   "cell_type": "markdown",
   "metadata": {},
   "source": [
    "# 3.7 Exercises\n",
    "\n",
    "This notebook file is intended to be a translation of the exercises included in Chapter 3 of Introduction to Statisical Learning"
   ]
  },
  {
   "cell_type": "markdown",
   "metadata": {},
   "source": [
    "\n",
    "## Installation\n",
    "There are multiple ways to get a notebook environment working. The easiest is probably to install Anaconda and work off of that premade setup.\n",
    "\n",
    "However, I personally recommend using ASDF to install versions of Python and using Poetry to manage package dependencies. This is because I tend to use separate environments for each project I'm working on (including this one) and I previously had problems with `conda` installs.\n",
    "\n",
    "Please look at the README.md in the base of the repository to see how to install things.\n"
   ]
  },
  {
   "cell_type": "markdown",
   "metadata": {},
   "source": [
    "## Import necessary libraries"
   ]
  },
  {
   "cell_type": "code",
   "execution_count": 1,
   "metadata": {},
   "outputs": [],
   "source": [
    "import numpy as np\n",
    "import pandas as pd\n",
    "from scipy import stats"
   ]
  },
  {
   "cell_type": "markdown",
   "metadata": {},
   "source": [
    "### Problem Number 8"
   ]
  },
  {
   "cell_type": "markdown",
   "metadata": {},
   "source": [
    "We are looking at the `Auto` data set and want to perform simple lienar regression."
   ]
  },
  {
   "cell_type": "code",
   "execution_count": 5,
   "metadata": {},
   "outputs": [
    {
     "data": {
      "text/html": [
       "<div>\n",
       "<style scoped>\n",
       "    .dataframe tbody tr th:only-of-type {\n",
       "        vertical-align: middle;\n",
       "    }\n",
       "\n",
       "    .dataframe tbody tr th {\n",
       "        vertical-align: top;\n",
       "    }\n",
       "\n",
       "    .dataframe thead th {\n",
       "        text-align: right;\n",
       "    }\n",
       "</style>\n",
       "<table border=\"1\" class=\"dataframe\">\n",
       "  <thead>\n",
       "    <tr style=\"text-align: right;\">\n",
       "      <th></th>\n",
       "      <th>crim</th>\n",
       "      <th>zn</th>\n",
       "      <th>indus</th>\n",
       "      <th>chas</th>\n",
       "      <th>nox</th>\n",
       "      <th>rm</th>\n",
       "      <th>age</th>\n",
       "      <th>dis</th>\n",
       "      <th>rad</th>\n",
       "      <th>tax</th>\n",
       "      <th>ptratio</th>\n",
       "      <th>lstat</th>\n",
       "      <th>medv</th>\n",
       "    </tr>\n",
       "  </thead>\n",
       "  <tbody>\n",
       "    <tr>\n",
       "      <th>0</th>\n",
       "      <td>0.00632</td>\n",
       "      <td>18.0</td>\n",
       "      <td>2.31</td>\n",
       "      <td>0</td>\n",
       "      <td>0.538</td>\n",
       "      <td>6.575</td>\n",
       "      <td>65.2</td>\n",
       "      <td>4.0900</td>\n",
       "      <td>1</td>\n",
       "      <td>296</td>\n",
       "      <td>15.3</td>\n",
       "      <td>4.98</td>\n",
       "      <td>24.0</td>\n",
       "    </tr>\n",
       "    <tr>\n",
       "      <th>1</th>\n",
       "      <td>0.02731</td>\n",
       "      <td>0.0</td>\n",
       "      <td>7.07</td>\n",
       "      <td>0</td>\n",
       "      <td>0.469</td>\n",
       "      <td>6.421</td>\n",
       "      <td>78.9</td>\n",
       "      <td>4.9671</td>\n",
       "      <td>2</td>\n",
       "      <td>242</td>\n",
       "      <td>17.8</td>\n",
       "      <td>9.14</td>\n",
       "      <td>21.6</td>\n",
       "    </tr>\n",
       "    <tr>\n",
       "      <th>2</th>\n",
       "      <td>0.02729</td>\n",
       "      <td>0.0</td>\n",
       "      <td>7.07</td>\n",
       "      <td>0</td>\n",
       "      <td>0.469</td>\n",
       "      <td>7.185</td>\n",
       "      <td>61.1</td>\n",
       "      <td>4.9671</td>\n",
       "      <td>2</td>\n",
       "      <td>242</td>\n",
       "      <td>17.8</td>\n",
       "      <td>4.03</td>\n",
       "      <td>34.7</td>\n",
       "    </tr>\n",
       "    <tr>\n",
       "      <th>3</th>\n",
       "      <td>0.03237</td>\n",
       "      <td>0.0</td>\n",
       "      <td>2.18</td>\n",
       "      <td>0</td>\n",
       "      <td>0.458</td>\n",
       "      <td>6.998</td>\n",
       "      <td>45.8</td>\n",
       "      <td>6.0622</td>\n",
       "      <td>3</td>\n",
       "      <td>222</td>\n",
       "      <td>18.7</td>\n",
       "      <td>2.94</td>\n",
       "      <td>33.4</td>\n",
       "    </tr>\n",
       "    <tr>\n",
       "      <th>4</th>\n",
       "      <td>0.06905</td>\n",
       "      <td>0.0</td>\n",
       "      <td>2.18</td>\n",
       "      <td>0</td>\n",
       "      <td>0.458</td>\n",
       "      <td>7.147</td>\n",
       "      <td>54.2</td>\n",
       "      <td>6.0622</td>\n",
       "      <td>3</td>\n",
       "      <td>222</td>\n",
       "      <td>18.7</td>\n",
       "      <td>5.33</td>\n",
       "      <td>36.2</td>\n",
       "    </tr>\n",
       "    <tr>\n",
       "      <th>5</th>\n",
       "      <td>0.02985</td>\n",
       "      <td>0.0</td>\n",
       "      <td>2.18</td>\n",
       "      <td>0</td>\n",
       "      <td>0.458</td>\n",
       "      <td>6.430</td>\n",
       "      <td>58.7</td>\n",
       "      <td>6.0622</td>\n",
       "      <td>3</td>\n",
       "      <td>222</td>\n",
       "      <td>18.7</td>\n",
       "      <td>5.21</td>\n",
       "      <td>28.7</td>\n",
       "    </tr>\n",
       "    <tr>\n",
       "      <th>6</th>\n",
       "      <td>0.08829</td>\n",
       "      <td>12.5</td>\n",
       "      <td>7.87</td>\n",
       "      <td>0</td>\n",
       "      <td>0.524</td>\n",
       "      <td>6.012</td>\n",
       "      <td>66.6</td>\n",
       "      <td>5.5605</td>\n",
       "      <td>5</td>\n",
       "      <td>311</td>\n",
       "      <td>15.2</td>\n",
       "      <td>12.43</td>\n",
       "      <td>22.9</td>\n",
       "    </tr>\n",
       "    <tr>\n",
       "      <th>7</th>\n",
       "      <td>0.14455</td>\n",
       "      <td>12.5</td>\n",
       "      <td>7.87</td>\n",
       "      <td>0</td>\n",
       "      <td>0.524</td>\n",
       "      <td>6.172</td>\n",
       "      <td>96.1</td>\n",
       "      <td>5.9505</td>\n",
       "      <td>5</td>\n",
       "      <td>311</td>\n",
       "      <td>15.2</td>\n",
       "      <td>19.15</td>\n",
       "      <td>27.1</td>\n",
       "    </tr>\n",
       "    <tr>\n",
       "      <th>8</th>\n",
       "      <td>0.21124</td>\n",
       "      <td>12.5</td>\n",
       "      <td>7.87</td>\n",
       "      <td>0</td>\n",
       "      <td>0.524</td>\n",
       "      <td>5.631</td>\n",
       "      <td>100.0</td>\n",
       "      <td>6.0821</td>\n",
       "      <td>5</td>\n",
       "      <td>311</td>\n",
       "      <td>15.2</td>\n",
       "      <td>29.93</td>\n",
       "      <td>16.5</td>\n",
       "    </tr>\n",
       "    <tr>\n",
       "      <th>9</th>\n",
       "      <td>0.17004</td>\n",
       "      <td>12.5</td>\n",
       "      <td>7.87</td>\n",
       "      <td>0</td>\n",
       "      <td>0.524</td>\n",
       "      <td>6.004</td>\n",
       "      <td>85.9</td>\n",
       "      <td>6.5921</td>\n",
       "      <td>5</td>\n",
       "      <td>311</td>\n",
       "      <td>15.2</td>\n",
       "      <td>17.10</td>\n",
       "      <td>18.9</td>\n",
       "    </tr>\n",
       "  </tbody>\n",
       "</table>\n",
       "</div>"
      ],
      "text/plain": [
       "      crim    zn  indus  chas    nox     rm    age     dis  rad  tax  ptratio  \\\n",
       "0  0.00632  18.0   2.31     0  0.538  6.575   65.2  4.0900    1  296     15.3   \n",
       "1  0.02731   0.0   7.07     0  0.469  6.421   78.9  4.9671    2  242     17.8   \n",
       "2  0.02729   0.0   7.07     0  0.469  7.185   61.1  4.9671    2  242     17.8   \n",
       "3  0.03237   0.0   2.18     0  0.458  6.998   45.8  6.0622    3  222     18.7   \n",
       "4  0.06905   0.0   2.18     0  0.458  7.147   54.2  6.0622    3  222     18.7   \n",
       "5  0.02985   0.0   2.18     0  0.458  6.430   58.7  6.0622    3  222     18.7   \n",
       "6  0.08829  12.5   7.87     0  0.524  6.012   66.6  5.5605    5  311     15.2   \n",
       "7  0.14455  12.5   7.87     0  0.524  6.172   96.1  5.9505    5  311     15.2   \n",
       "8  0.21124  12.5   7.87     0  0.524  5.631  100.0  6.0821    5  311     15.2   \n",
       "9  0.17004  12.5   7.87     0  0.524  6.004   85.9  6.5921    5  311     15.2   \n",
       "\n",
       "   lstat  medv  \n",
       "0   4.98  24.0  \n",
       "1   9.14  21.6  \n",
       "2   4.03  34.7  \n",
       "3   2.94  33.4  \n",
       "4   5.33  36.2  \n",
       "5   5.21  28.7  \n",
       "6  12.43  22.9  \n",
       "7  19.15  27.1  \n",
       "8  29.93  16.5  \n",
       "9  17.10  18.9  "
      ]
     },
     "execution_count": 5,
     "metadata": {},
     "output_type": "execute_result"
    }
   ],
   "source": [
    "auto_dataframe_path = '../data/Auto.csv' # filepath location of the dataset\n",
    "cols = list(pd.read_csv(auto_dataframe_path, nrows=1)) # get column names of the dataset and put in list\n",
    "auto_dataframe = pd.read_csv(auto_dataframe_path, usecols = [i for i in cols if i!= \"Unnamed: 0\"]) # remove the Index column that is used by R\n",
    "auto_dataframe.head(10)"
   ]
  },
  {
   "cell_type": "markdown",
   "metadata": {},
   "source": [
    "(a) The book says to use the `lm()` function to fit a simple linear regression model on `horsepower` to predict `mpg`.\n",
    "\n",
    "An analog for this would be the `linregress` function inside the `scipy.stats` module"
   ]
  },
  {
   "cell_type": "code",
   "execution_count": 9,
   "metadata": {},
   "outputs": [
    {
     "name": "stdout",
     "output_type": "stream",
     "text": [
      "\u001b[0;31mSignature:\u001b[0m \u001b[0mstats\u001b[0m\u001b[0;34m.\u001b[0m\u001b[0mlinregress\u001b[0m\u001b[0;34m(\u001b[0m\u001b[0mx\u001b[0m\u001b[0;34m,\u001b[0m \u001b[0my\u001b[0m\u001b[0;34m=\u001b[0m\u001b[0;32mNone\u001b[0m\u001b[0;34m,\u001b[0m \u001b[0malternative\u001b[0m\u001b[0;34m=\u001b[0m\u001b[0;34m'two-sided'\u001b[0m\u001b[0;34m)\u001b[0m\u001b[0;34m\u001b[0m\u001b[0;34m\u001b[0m\u001b[0m\n",
      "\u001b[0;31mDocstring:\u001b[0m\n",
      "Calculate a linear least-squares regression for two sets of measurements.\n",
      "\n",
      "Parameters\n",
      "----------\n",
      "x, y : array_like\n",
      "    Two sets of measurements.  Both arrays should have the same length.  If\n",
      "    only `x` is given (and ``y=None``), then it must be a two-dimensional\n",
      "    array where one dimension has length 2.  The two sets of measurements\n",
      "    are then found by splitting the array along the length-2 dimension. In\n",
      "    the case where ``y=None`` and `x` is a 2x2 array, ``linregress(x)`` is\n",
      "    equivalent to ``linregress(x[0], x[1])``.\n",
      "alternative : {'two-sided', 'less', 'greater'}, optional\n",
      "    Defines the alternative hypothesis. Default is 'two-sided'.\n",
      "    The following options are available:\n",
      "\n",
      "    * 'two-sided': the slope of the regression line is nonzero\n",
      "    * 'less': the slope of the regression line is less than zero\n",
      "    * 'greater':  the slope of the regression line is greater than zero\n",
      "\n",
      "    .. versionadded:: 1.7.0\n",
      "\n",
      "Returns\n",
      "-------\n",
      "result : ``LinregressResult`` instance\n",
      "    The return value is an object with the following attributes:\n",
      "\n",
      "    slope : float\n",
      "        Slope of the regression line.\n",
      "    intercept : float\n",
      "        Intercept of the regression line.\n",
      "    rvalue : float\n",
      "        The Pearson correlation coefficient. The square of ``rvalue``\n",
      "        is equal to the coefficient of determination.\n",
      "    pvalue : float\n",
      "        The p-value for a hypothesis test whose null hypothesis is\n",
      "        that the slope is zero, using Wald Test with t-distribution of\n",
      "        the test statistic. See `alternative` above for alternative\n",
      "        hypotheses.\n",
      "    stderr : float\n",
      "        Standard error of the estimated slope (gradient), under the\n",
      "        assumption of residual normality.\n",
      "    intercept_stderr : float\n",
      "        Standard error of the estimated intercept, under the assumption\n",
      "        of residual normality.\n",
      "\n",
      "See Also\n",
      "--------\n",
      "scipy.optimize.curve_fit :\n",
      "    Use non-linear least squares to fit a function to data.\n",
      "scipy.optimize.leastsq :\n",
      "    Minimize the sum of squares of a set of equations.\n",
      "\n",
      "Notes\n",
      "-----\n",
      "Missing values are considered pair-wise: if a value is missing in `x`,\n",
      "the corresponding value in `y` is masked.\n",
      "\n",
      "For compatibility with older versions of SciPy, the return value acts\n",
      "like a ``namedtuple`` of length 5, with fields ``slope``, ``intercept``,\n",
      "``rvalue``, ``pvalue`` and ``stderr``, so one can continue to write::\n",
      "\n",
      "    slope, intercept, r, p, se = linregress(x, y)\n",
      "\n",
      "With that style, however, the standard error of the intercept is not\n",
      "available.  To have access to all the computed values, including the\n",
      "standard error of the intercept, use the return value as an object\n",
      "with attributes, e.g.::\n",
      "\n",
      "    result = linregress(x, y)\n",
      "    print(result.intercept, result.intercept_stderr)\n",
      "\n",
      "Examples\n",
      "--------\n",
      ">>> import matplotlib.pyplot as plt\n",
      ">>> from scipy import stats\n",
      ">>> rng = np.random.default_rng()\n",
      "\n",
      "Generate some data:\n",
      "\n",
      ">>> x = rng.random(10)\n",
      ">>> y = 1.6*x + rng.random(10)\n",
      "\n",
      "Perform the linear regression:\n",
      "\n",
      ">>> res = stats.linregress(x, y)\n",
      "\n",
      "Coefficient of determination (R-squared):\n",
      "\n",
      ">>> print(f\"R-squared: {res.rvalue**2:.6f}\")\n",
      "R-squared: 0.717533\n",
      "\n",
      "Plot the data along with the fitted line:\n",
      "\n",
      ">>> plt.plot(x, y, 'o', label='original data')\n",
      ">>> plt.plot(x, res.intercept + res.slope*x, 'r', label='fitted line')\n",
      ">>> plt.legend()\n",
      ">>> plt.show()\n",
      "\n",
      "Calculate 95% confidence interval on slope and intercept:\n",
      "\n",
      ">>> # Two-sided inverse Students t-distribution\n",
      ">>> # p - probability, df - degrees of freedom\n",
      ">>> from scipy.stats import t\n",
      ">>> tinv = lambda p, df: abs(t.ppf(p/2, df))\n",
      "\n",
      ">>> ts = tinv(0.05, len(x)-2)\n",
      ">>> print(f\"slope (95%): {res.slope:.6f} +/- {ts*res.stderr:.6f}\")\n",
      "slope (95%): 1.453392 +/- 0.743465\n",
      ">>> print(f\"intercept (95%): {res.intercept:.6f}\"\n",
      "...       f\" +/- {ts*res.intercept_stderr:.6f}\")\n",
      "intercept (95%): 0.616950 +/- 0.544475\n",
      "\u001b[0;31mFile:\u001b[0m      ~/Repos/courses/intro_stat_learning/.venv/lib/python3.8/site-packages/scipy/stats/_stats_mstats_common.py\n",
      "\u001b[0;31mType:\u001b[0m      function\n"
     ]
    }
   ],
   "source": [
    "?stats.linregress"
   ]
  },
  {
   "cell_type": "markdown",
   "metadata": {},
   "source": [
    "Use the `pandas.DataFrame.describe()` to print the results. Comment on the output. For example:\n",
    "\n",
    "(a) i. Is there a relationship between the predictor (`horsepower`) and the response (`mpg`)?"
   ]
  },
  {
   "cell_type": "code",
   "execution_count": null,
   "metadata": {},
   "outputs": [],
   "source": []
  },
  {
   "cell_type": "markdown",
   "metadata": {},
   "source": [
    "(a) ii. How strong is the relationship between the predictor and the response?"
   ]
  },
  {
   "cell_type": "code",
   "execution_count": null,
   "metadata": {},
   "outputs": [],
   "source": []
  },
  {
   "cell_type": "markdown",
   "metadata": {},
   "source": [
    "(a) iii. Is the relationship between the predictor and the response positive or negative?"
   ]
  },
  {
   "cell_type": "code",
   "execution_count": null,
   "metadata": {},
   "outputs": [],
   "source": []
  },
  {
   "cell_type": "markdown",
   "metadata": {},
   "source": [
    "(a) iv. What is the predicted `mpg` associated with a `horsepower` of 98? What are the? What are the associated 95% confidence and prediction intervals?"
   ]
  },
  {
   "cell_type": "code",
   "execution_count": null,
   "metadata": {},
   "outputs": [],
   "source": []
  },
  {
   "cell_type": "markdown",
   "metadata": {},
   "source": [
    "(b) Plot the response and the predictor. Use the `scipy.stats.linregress` function. Will need to save the results and call the intercept and slope. Aftewards, use the x values to calculate predictions and plot with matplotlib (can store in the same dataframe)"
   ]
  },
  {
   "cell_type": "code",
   "execution_count": null,
   "metadata": {},
   "outputs": [],
   "source": []
  },
  {
   "cell_type": "markdown",
   "metadata": {},
   "source": [
    "(c) Use the `plot()` function to produce diagnostic plots of the least squares regression fit. Comment on any problems you see with the fit.\n",
    "\n",
    "May need to come back and correct the function call. \n",
    "I think you are supposed to compare the observational data with your predictions on a scatter plot"
   ]
  },
  {
   "cell_type": "code",
   "execution_count": null,
   "metadata": {},
   "outputs": [],
   "source": []
  },
  {
   "cell_type": "markdown",
   "metadata": {},
   "source": [
    "### Problem 9"
   ]
  },
  {
   "cell_type": "markdown",
   "metadata": {},
   "source": [
    "This question involves the use of multiple linear regression on the `Auto` data."
   ]
  },
  {
   "cell_type": "markdown",
   "metadata": {},
   "source": [
    "(a) Produce a scatterplot matrix which includes all of the variables in the data set.\n",
    "\n",
    "Check function calls"
   ]
  },
  {
   "cell_type": "code",
   "execution_count": null,
   "metadata": {},
   "outputs": [],
   "source": []
  },
  {
   "cell_type": "markdown",
   "metadata": {},
   "source": [
    "(b) Computee the matrix of correlations between the variables using the function `cor()`. You will need to exclude the `name` variable, which is qualitative\n",
    "\n",
    "Go back and check the function calls"
   ]
  },
  {
   "cell_type": "code",
   "execution_count": null,
   "metadata": {},
   "outputs": [],
   "source": []
  },
  {
   "cell_type": "markdown",
   "metadata": {},
   "source": [
    "(c) Use the `linregress()` function to perform a multiple linear regression with `mpg` as the response and all other variables except `name` as the predictors. "
   ]
  },
  {
   "cell_type": "code",
   "execution_count": null,
   "metadata": {},
   "outputs": [],
   "source": []
  },
  {
   "cell_type": "markdown",
   "metadata": {},
   "source": [
    "Use the `summary()` function to print the results. Comment on the output. "
   ]
  },
  {
   "cell_type": "code",
   "execution_count": null,
   "metadata": {},
   "outputs": [],
   "source": []
  },
  {
   "cell_type": "markdown",
   "metadata": {},
   "source": [
    "(c) i. Is there a relationship between the predictors and the response?"
   ]
  },
  {
   "cell_type": "code",
   "execution_count": null,
   "metadata": {},
   "outputs": [],
   "source": []
  },
  {
   "cell_type": "markdown",
   "metadata": {},
   "source": [
    "(c) ii. Which predictors appear to have a statistically significant relationship to the response?"
   ]
  },
  {
   "cell_type": "code",
   "execution_count": null,
   "metadata": {},
   "outputs": [],
   "source": []
  },
  {
   "cell_type": "markdown",
   "metadata": {},
   "source": [
    "(c) iii. What does the coefficient for the `year` variable suggest?"
   ]
  },
  {
   "cell_type": "code",
   "execution_count": null,
   "metadata": {},
   "outputs": [],
   "source": []
  },
  {
   "cell_type": "markdown",
   "metadata": {},
   "source": [
    "(d) Use the `plot()` function to produce diagnostic plots of the linear regression fit. Comment on any problems you see with the fit. \n",
    "\n",
    "Do the residual plots suggest any unusually large outliers? Does the leverage plot identify any observations with unusually high leverage?\n",
    "\n",
    "May not have as easy access to residual or leverage plots..."
   ]
  },
  {
   "cell_type": "code",
   "execution_count": null,
   "metadata": {},
   "outputs": [],
   "source": []
  },
  {
   "cell_type": "markdown",
   "metadata": {},
   "source": [
    "(e) Use the `*` and `:` symbols to fit linear regression models with interaction effects. Do any interactions appear to be statistically significant?\n",
    "\n",
    "Need to figure out what these operators are.\n",
    "\n",
    "`*` might just be multiply and `:` seems to be a sequence generator"
   ]
  },
  {
   "cell_type": "code",
   "execution_count": null,
   "metadata": {},
   "outputs": [],
   "source": []
  },
  {
   "cell_type": "markdown",
   "metadata": {},
   "source": [
    "(f) Try a few different transformations of the variables, such as `log`, `sqrt`, and `power`. Comment on your findings"
   ]
  },
  {
   "cell_type": "code",
   "execution_count": null,
   "metadata": {},
   "outputs": [],
   "source": []
  },
  {
   "cell_type": "markdown",
   "metadata": {},
   "source": [
    "### Problem 10"
   ]
  },
  {
   "cell_type": "markdown",
   "metadata": {},
   "source": [
    "This question uses the `Carseats` data set."
   ]
  },
  {
   "cell_type": "markdown",
   "metadata": {},
   "source": [
    "(a) Fit a multiple regression model to predict `Sales` using `Price`, `Urban`, and `US`"
   ]
  },
  {
   "cell_type": "code",
   "execution_count": null,
   "metadata": {},
   "outputs": [],
   "source": []
  },
  {
   "cell_type": "markdown",
   "metadata": {},
   "source": [
    "(b) Provide an interpretation of each coefficient in the model. Be careful! Some of the variables in the model are qualitative!"
   ]
  },
  {
   "cell_type": "code",
   "execution_count": null,
   "metadata": {},
   "outputs": [],
   "source": []
  },
  {
   "cell_type": "markdown",
   "metadata": {},
   "source": [
    "(c) Write out the model in equation form, being careful to handle the qualtitative variables properly."
   ]
  },
  {
   "cell_type": "code",
   "execution_count": null,
   "metadata": {},
   "outputs": [],
   "source": []
  },
  {
   "cell_type": "markdown",
   "metadata": {},
   "source": [
    "(d) For which of the predictors can you reject the null hypothesis H0: Betaj = 0 ?\n",
    "\n",
    "convert to math"
   ]
  },
  {
   "cell_type": "code",
   "execution_count": null,
   "metadata": {},
   "outputs": [],
   "source": []
  },
  {
   "cell_type": "markdown",
   "metadata": {},
   "source": [
    "(e) On the basis of your response to the previous question, fit a smaller model that only uses the predictors for which there is evidence of association with the outcome."
   ]
  },
  {
   "cell_type": "code",
   "execution_count": null,
   "metadata": {},
   "outputs": [],
   "source": []
  },
  {
   "cell_type": "markdown",
   "metadata": {},
   "source": [
    "(f) How well do the models in (a) and (e) fit the data?"
   ]
  },
  {
   "cell_type": "code",
   "execution_count": null,
   "metadata": {},
   "outputs": [],
   "source": []
  },
  {
   "cell_type": "markdown",
   "metadata": {},
   "source": [
    "(g) Using the model from (e), obtain 95% confidence intervals for the coefficient(s)"
   ]
  },
  {
   "cell_type": "code",
   "execution_count": null,
   "metadata": {},
   "outputs": [],
   "source": []
  },
  {
   "cell_type": "markdown",
   "metadata": {},
   "source": [
    "(h) Is there evidence of outliers or high leverage observations in the model from (e)?"
   ]
  },
  {
   "cell_type": "code",
   "execution_count": null,
   "metadata": {},
   "outputs": [],
   "source": []
  },
  {
   "cell_type": "markdown",
   "metadata": {},
   "source": [
    "### Problem 11"
   ]
  },
  {
   "cell_type": "markdown",
   "metadata": {},
   "source": []
  },
  {
   "cell_type": "code",
   "execution_count": 11,
   "metadata": {},
   "outputs": [
    {
     "name": "stdout",
     "output_type": "stream",
     "text": [
      "Intercept: 34.55384087938311, Intercept StdErr: 0.562627354988433\n",
      "Slope: -0.9500493537579909, Slope StdErr: 0.038733416212639406\n",
      "P value: 5.081103394386929e-88\n",
      "Pearson correlation coefficient (r): -0.7376627261740151\n"
     ]
    }
   ],
   "source": [
    "result = stats.linregress(x=boston_dataframe['lstat'], y=boston_dataframe['medv'])\n",
    "print(\"Intercept: \" + str(result.intercept) + \", Intercept StdErr: \" + str(result.intercept_stderr))\n",
    "print(\"Slope: \" + str(result.slope) + \", Slope StdErr: \" + str(result.stderr))\n",
    "print(\"P value: \" + str(result.pvalue))\n",
    "print(\"Pearson correlation coefficient (r): \" + str(result.rvalue))"
   ]
  },
  {
   "cell_type": "markdown",
   "metadata": {},
   "source": []
  },
  {
   "cell_type": "code",
   "execution_count": 7,
   "metadata": {},
   "outputs": [
    {
     "data": {
      "text/plain": [
       "34.55384087938311"
      ]
     },
     "execution_count": 7,
     "metadata": {},
     "output_type": "execute_result"
    }
   ],
   "source": [
    "# see the print outs/results from the lm() given in the text. How to add things like quantiles, residuals, residual standard error. Demo also calculates Multiple R-squared, Adjusted R-squared, F-statistic, although those values seem to be not necessary for simple linear regression"
   ]
  },
  {
   "cell_type": "code",
   "execution_count": null,
   "metadata": {},
   "outputs": [],
   "source": []
  }
 ],
 "metadata": {
  "interpreter": {
   "hash": "5669dfe12a2d82aa1b3191b510b728236d6d281b189b67e61730db0cb7f185c6"
  },
  "kernelspec": {
   "display_name": "Python 3.8.12 64-bit",
   "language": "python",
   "name": "python3"
  },
  "language_info": {
   "codemirror_mode": {
    "name": "ipython",
    "version": 3
   },
   "file_extension": ".py",
   "mimetype": "text/x-python",
   "name": "python",
   "nbconvert_exporter": "python",
   "pygments_lexer": "ipython3",
   "version": "3.8.12"
  },
  "orig_nbformat": 4
 },
 "nbformat": 4,
 "nbformat_minor": 2
}
