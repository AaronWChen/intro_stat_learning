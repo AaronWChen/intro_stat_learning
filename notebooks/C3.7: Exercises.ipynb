{
 "cells": [
  {
   "cell_type": "markdown",
   "metadata": {},
   "source": [
    "# 3.7 Exercises\n",
    "\n",
    "This notebook file is intended to be a translation of the exercises included in Chapter 3 of Introduction to Statisical Learning"
   ]
  },
  {
   "cell_type": "markdown",
   "metadata": {},
   "source": [
    "\n",
    "## Installation\n",
    "There are multiple ways to get a notebook environment working. The easiest is probably to install Anaconda and work off of that premade setup.\n",
    "\n",
    "However, I personally recommend using ASDF to install versions of Python and using Poetry to manage package dependencies. This is because I tend to use separate environments for each project I'm working on (including this one) and I previously had problems with `conda` installs.\n",
    "\n",
    "Please look at the README.md in the base of the repository to see how to install things.\n"
   ]
  },
  {
   "cell_type": "markdown",
   "metadata": {},
   "source": [
    "## Import necessary libraries"
   ]
  },
  {
   "cell_type": "code",
   "execution_count": 1,
   "metadata": {},
   "outputs": [],
   "source": [
    "import matplotlib.pyplot as plt\n",
    "import numpy as np\n",
    "from numpy.random import Generator, PCG64\n",
    "import pandas as pd\n",
    "from scipy import stats\n",
    "import statsmodels.api as sm\n",
    "\n",
    "scipy_seed = 1304\n",
    "\n",
    "numpy_randomGen = Generator(PCG64(scipy_seed))"
   ]
  },
  {
   "cell_type": "markdown",
   "metadata": {},
   "source": [
    "### Problem Number 8"
   ]
  },
  {
   "cell_type": "markdown",
   "metadata": {},
   "source": [
    "We are looking at the `Auto` data set and want to perform simple lienar regression."
   ]
  },
  {
   "cell_type": "code",
   "execution_count": 5,
   "metadata": {},
   "outputs": [
    {
     "data": {
      "text/html": [
       "<div>\n",
       "<style scoped>\n",
       "    .dataframe tbody tr th:only-of-type {\n",
       "        vertical-align: middle;\n",
       "    }\n",
       "\n",
       "    .dataframe tbody tr th {\n",
       "        vertical-align: top;\n",
       "    }\n",
       "\n",
       "    .dataframe thead th {\n",
       "        text-align: right;\n",
       "    }\n",
       "</style>\n",
       "<table border=\"1\" class=\"dataframe\">\n",
       "  <thead>\n",
       "    <tr style=\"text-align: right;\">\n",
       "      <th></th>\n",
       "      <th>crim</th>\n",
       "      <th>zn</th>\n",
       "      <th>indus</th>\n",
       "      <th>chas</th>\n",
       "      <th>nox</th>\n",
       "      <th>rm</th>\n",
       "      <th>age</th>\n",
       "      <th>dis</th>\n",
       "      <th>rad</th>\n",
       "      <th>tax</th>\n",
       "      <th>ptratio</th>\n",
       "      <th>lstat</th>\n",
       "      <th>medv</th>\n",
       "    </tr>\n",
       "  </thead>\n",
       "  <tbody>\n",
       "    <tr>\n",
       "      <th>0</th>\n",
       "      <td>0.00632</td>\n",
       "      <td>18.0</td>\n",
       "      <td>2.31</td>\n",
       "      <td>0</td>\n",
       "      <td>0.538</td>\n",
       "      <td>6.575</td>\n",
       "      <td>65.2</td>\n",
       "      <td>4.0900</td>\n",
       "      <td>1</td>\n",
       "      <td>296</td>\n",
       "      <td>15.3</td>\n",
       "      <td>4.98</td>\n",
       "      <td>24.0</td>\n",
       "    </tr>\n",
       "    <tr>\n",
       "      <th>1</th>\n",
       "      <td>0.02731</td>\n",
       "      <td>0.0</td>\n",
       "      <td>7.07</td>\n",
       "      <td>0</td>\n",
       "      <td>0.469</td>\n",
       "      <td>6.421</td>\n",
       "      <td>78.9</td>\n",
       "      <td>4.9671</td>\n",
       "      <td>2</td>\n",
       "      <td>242</td>\n",
       "      <td>17.8</td>\n",
       "      <td>9.14</td>\n",
       "      <td>21.6</td>\n",
       "    </tr>\n",
       "    <tr>\n",
       "      <th>2</th>\n",
       "      <td>0.02729</td>\n",
       "      <td>0.0</td>\n",
       "      <td>7.07</td>\n",
       "      <td>0</td>\n",
       "      <td>0.469</td>\n",
       "      <td>7.185</td>\n",
       "      <td>61.1</td>\n",
       "      <td>4.9671</td>\n",
       "      <td>2</td>\n",
       "      <td>242</td>\n",
       "      <td>17.8</td>\n",
       "      <td>4.03</td>\n",
       "      <td>34.7</td>\n",
       "    </tr>\n",
       "    <tr>\n",
       "      <th>3</th>\n",
       "      <td>0.03237</td>\n",
       "      <td>0.0</td>\n",
       "      <td>2.18</td>\n",
       "      <td>0</td>\n",
       "      <td>0.458</td>\n",
       "      <td>6.998</td>\n",
       "      <td>45.8</td>\n",
       "      <td>6.0622</td>\n",
       "      <td>3</td>\n",
       "      <td>222</td>\n",
       "      <td>18.7</td>\n",
       "      <td>2.94</td>\n",
       "      <td>33.4</td>\n",
       "    </tr>\n",
       "    <tr>\n",
       "      <th>4</th>\n",
       "      <td>0.06905</td>\n",
       "      <td>0.0</td>\n",
       "      <td>2.18</td>\n",
       "      <td>0</td>\n",
       "      <td>0.458</td>\n",
       "      <td>7.147</td>\n",
       "      <td>54.2</td>\n",
       "      <td>6.0622</td>\n",
       "      <td>3</td>\n",
       "      <td>222</td>\n",
       "      <td>18.7</td>\n",
       "      <td>5.33</td>\n",
       "      <td>36.2</td>\n",
       "    </tr>\n",
       "    <tr>\n",
       "      <th>5</th>\n",
       "      <td>0.02985</td>\n",
       "      <td>0.0</td>\n",
       "      <td>2.18</td>\n",
       "      <td>0</td>\n",
       "      <td>0.458</td>\n",
       "      <td>6.430</td>\n",
       "      <td>58.7</td>\n",
       "      <td>6.0622</td>\n",
       "      <td>3</td>\n",
       "      <td>222</td>\n",
       "      <td>18.7</td>\n",
       "      <td>5.21</td>\n",
       "      <td>28.7</td>\n",
       "    </tr>\n",
       "    <tr>\n",
       "      <th>6</th>\n",
       "      <td>0.08829</td>\n",
       "      <td>12.5</td>\n",
       "      <td>7.87</td>\n",
       "      <td>0</td>\n",
       "      <td>0.524</td>\n",
       "      <td>6.012</td>\n",
       "      <td>66.6</td>\n",
       "      <td>5.5605</td>\n",
       "      <td>5</td>\n",
       "      <td>311</td>\n",
       "      <td>15.2</td>\n",
       "      <td>12.43</td>\n",
       "      <td>22.9</td>\n",
       "    </tr>\n",
       "    <tr>\n",
       "      <th>7</th>\n",
       "      <td>0.14455</td>\n",
       "      <td>12.5</td>\n",
       "      <td>7.87</td>\n",
       "      <td>0</td>\n",
       "      <td>0.524</td>\n",
       "      <td>6.172</td>\n",
       "      <td>96.1</td>\n",
       "      <td>5.9505</td>\n",
       "      <td>5</td>\n",
       "      <td>311</td>\n",
       "      <td>15.2</td>\n",
       "      <td>19.15</td>\n",
       "      <td>27.1</td>\n",
       "    </tr>\n",
       "    <tr>\n",
       "      <th>8</th>\n",
       "      <td>0.21124</td>\n",
       "      <td>12.5</td>\n",
       "      <td>7.87</td>\n",
       "      <td>0</td>\n",
       "      <td>0.524</td>\n",
       "      <td>5.631</td>\n",
       "      <td>100.0</td>\n",
       "      <td>6.0821</td>\n",
       "      <td>5</td>\n",
       "      <td>311</td>\n",
       "      <td>15.2</td>\n",
       "      <td>29.93</td>\n",
       "      <td>16.5</td>\n",
       "    </tr>\n",
       "    <tr>\n",
       "      <th>9</th>\n",
       "      <td>0.17004</td>\n",
       "      <td>12.5</td>\n",
       "      <td>7.87</td>\n",
       "      <td>0</td>\n",
       "      <td>0.524</td>\n",
       "      <td>6.004</td>\n",
       "      <td>85.9</td>\n",
       "      <td>6.5921</td>\n",
       "      <td>5</td>\n",
       "      <td>311</td>\n",
       "      <td>15.2</td>\n",
       "      <td>17.10</td>\n",
       "      <td>18.9</td>\n",
       "    </tr>\n",
       "  </tbody>\n",
       "</table>\n",
       "</div>"
      ],
      "text/plain": [
       "      crim    zn  indus  chas    nox     rm    age     dis  rad  tax  ptratio  \\\n",
       "0  0.00632  18.0   2.31     0  0.538  6.575   65.2  4.0900    1  296     15.3   \n",
       "1  0.02731   0.0   7.07     0  0.469  6.421   78.9  4.9671    2  242     17.8   \n",
       "2  0.02729   0.0   7.07     0  0.469  7.185   61.1  4.9671    2  242     17.8   \n",
       "3  0.03237   0.0   2.18     0  0.458  6.998   45.8  6.0622    3  222     18.7   \n",
       "4  0.06905   0.0   2.18     0  0.458  7.147   54.2  6.0622    3  222     18.7   \n",
       "5  0.02985   0.0   2.18     0  0.458  6.430   58.7  6.0622    3  222     18.7   \n",
       "6  0.08829  12.5   7.87     0  0.524  6.012   66.6  5.5605    5  311     15.2   \n",
       "7  0.14455  12.5   7.87     0  0.524  6.172   96.1  5.9505    5  311     15.2   \n",
       "8  0.21124  12.5   7.87     0  0.524  5.631  100.0  6.0821    5  311     15.2   \n",
       "9  0.17004  12.5   7.87     0  0.524  6.004   85.9  6.5921    5  311     15.2   \n",
       "\n",
       "   lstat  medv  \n",
       "0   4.98  24.0  \n",
       "1   9.14  21.6  \n",
       "2   4.03  34.7  \n",
       "3   2.94  33.4  \n",
       "4   5.33  36.2  \n",
       "5   5.21  28.7  \n",
       "6  12.43  22.9  \n",
       "7  19.15  27.1  \n",
       "8  29.93  16.5  \n",
       "9  17.10  18.9  "
      ]
     },
     "execution_count": 5,
     "metadata": {},
     "output_type": "execute_result"
    }
   ],
   "source": [
    "auto_dataframe_path = '../data/Auto.csv' # filepath location of the dataset\n",
    "cols = list(pd.read_csv(auto_dataframe_path, nrows=1)) # get column names of the dataset and put in list\n",
    "auto_dataframe = pd.read_csv(auto_dataframe_path, usecols = [i for i in cols if i!= \"Unnamed: 0\"]) # remove the Index column that is used by R\n",
    "auto_dataframe.head(10)"
   ]
  },
  {
   "cell_type": "markdown",
   "metadata": {},
   "source": [
    "(a) The book says to use the `lm()` function to fit a simple linear regression model on `horsepower` to predict `mpg`.\n",
    "\n",
    "An analog for this would be the `linregress` function inside the `statsmodels.api.OLS` module"
   ]
  },
  {
   "cell_type": "code",
   "execution_count": 2,
   "metadata": {},
   "outputs": [
    {
     "name": "stdout",
     "output_type": "stream",
     "text": [
      "\u001b[0;31mInit signature:\u001b[0m \u001b[0msm\u001b[0m\u001b[0;34m.\u001b[0m\u001b[0mOLS\u001b[0m\u001b[0;34m(\u001b[0m\u001b[0mendog\u001b[0m\u001b[0;34m,\u001b[0m \u001b[0mexog\u001b[0m\u001b[0;34m=\u001b[0m\u001b[0;32mNone\u001b[0m\u001b[0;34m,\u001b[0m \u001b[0mmissing\u001b[0m\u001b[0;34m=\u001b[0m\u001b[0;34m'none'\u001b[0m\u001b[0;34m,\u001b[0m \u001b[0mhasconst\u001b[0m\u001b[0;34m=\u001b[0m\u001b[0;32mNone\u001b[0m\u001b[0;34m,\u001b[0m \u001b[0;34m**\u001b[0m\u001b[0mkwargs\u001b[0m\u001b[0;34m)\u001b[0m\u001b[0;34m\u001b[0m\u001b[0;34m\u001b[0m\u001b[0m\n",
      "\u001b[0;31mDocstring:\u001b[0m     \n",
      "Ordinary Least Squares\n",
      "\n",
      "Parameters\n",
      "----------\n",
      "endog : array_like\n",
      "    A 1-d endogenous response variable. The dependent variable.\n",
      "exog : array_like\n",
      "    A nobs x k array where `nobs` is the number of observations and `k`\n",
      "    is the number of regressors. An intercept is not included by default\n",
      "    and should be added by the user. See\n",
      "    :func:`statsmodels.tools.add_constant`.\n",
      "missing : str\n",
      "    Available options are 'none', 'drop', and 'raise'. If 'none', no nan\n",
      "    checking is done. If 'drop', any observations with nans are dropped.\n",
      "    If 'raise', an error is raised. Default is 'none'.\n",
      "hasconst : None or bool\n",
      "    Indicates whether the RHS includes a user-supplied constant. If True,\n",
      "    a constant is not checked for and k_constant is set to 1 and all\n",
      "    result statistics are calculated as if a constant is present. If\n",
      "    False, a constant is not checked for and k_constant is set to 0.\n",
      "**kwargs\n",
      "    Extra arguments that are used to set model properties when using the\n",
      "    formula interface.\n",
      "\n",
      "Attributes\n",
      "----------\n",
      "weights : scalar\n",
      "    Has an attribute weights = array(1.0) due to inheritance from WLS.\n",
      "\n",
      "See Also\n",
      "--------\n",
      "WLS : Fit a linear model using Weighted Least Squares.\n",
      "GLS : Fit a linear model using Generalized Least Squares.\n",
      "\n",
      "Notes\n",
      "-----\n",
      "No constant is added by the model unless you are using formulas.\n",
      "\n",
      "Examples\n",
      "--------\n",
      ">>> import statsmodels.api as sm\n",
      ">>> import numpy as np\n",
      ">>> duncan_prestige = sm.datasets.get_rdataset(\"Duncan\", \"carData\")\n",
      ">>> Y = duncan_prestige.data['income']\n",
      ">>> X = duncan_prestige.data['education']\n",
      ">>> X = sm.add_constant(X)\n",
      ">>> model = sm.OLS(Y,X)\n",
      ">>> results = model.fit()\n",
      ">>> results.params\n",
      "const        10.603498\n",
      "education     0.594859\n",
      "dtype: float64\n",
      "\n",
      ">>> results.tvalues\n",
      "const        2.039813\n",
      "education    6.892802\n",
      "dtype: float64\n",
      "\n",
      ">>> print(results.t_test([1, 0]))\n",
      "                             Test for Constraints\n",
      "==============================================================================\n",
      "                 coef    std err          t      P>|t|      [0.025      0.975]\n",
      "------------------------------------------------------------------------------\n",
      "c0            10.6035      5.198      2.040      0.048       0.120      21.087\n",
      "==============================================================================\n",
      "\n",
      ">>> print(results.f_test(np.identity(2)))\n",
      "<F test: F=array([[159.63031026]]), p=1.2607168903696672e-20, df_denom=43, df_num=2>\n",
      "\u001b[0;31mFile:\u001b[0m           ~/Repos/courses/intro_stat_learning/.venv/lib/python3.8/site-packages/statsmodels/regression/linear_model.py\n",
      "\u001b[0;31mType:\u001b[0m           type\n",
      "\u001b[0;31mSubclasses:\u001b[0m     \n"
     ]
    }
   ],
   "source": [
    "?sm.OLS"
   ]
  },
  {
   "cell_type": "markdown",
   "metadata": {},
   "source": [
    "Use the `pandas.DataFrame.describe()` to print the results. Comment on the output. For example:\n",
    "\n",
    "8. (a) i. Is there a relationship between the predictor (`horsepower`) and the response (`mpg`)?"
   ]
  },
  {
   "cell_type": "code",
   "execution_count": null,
   "metadata": {},
   "outputs": [],
   "source": []
  },
  {
   "cell_type": "markdown",
   "metadata": {},
   "source": [
    "8. (a) ii. How strong is the relationship between the predictor and the response?"
   ]
  },
  {
   "cell_type": "code",
   "execution_count": null,
   "metadata": {},
   "outputs": [],
   "source": []
  },
  {
   "cell_type": "markdown",
   "metadata": {},
   "source": [
    "8. (a) iii. Is the relationship between the predictor and the response positive or negative?"
   ]
  },
  {
   "cell_type": "code",
   "execution_count": null,
   "metadata": {},
   "outputs": [],
   "source": []
  },
  {
   "cell_type": "markdown",
   "metadata": {},
   "source": [
    "8. (a) iv. What is the predicted `mpg` associated with a `horsepower` of 98? What are the? What are the associated 95% confidence and prediction intervals?"
   ]
  },
  {
   "cell_type": "code",
   "execution_count": null,
   "metadata": {},
   "outputs": [],
   "source": []
  },
  {
   "cell_type": "markdown",
   "metadata": {},
   "source": [
    "8. (b) Plot the response and the predictor. Use the `matplotlib.pyplot.plot` function to make a line/scatter plot. Will need to save the results and call the intercept and slope. Aftewards, use the x values to calculate predictions and plot with matplotlib (can store in the same dataframe)\n",
    "\n",
    "\n",
    "We are trying to overlay a line plot (the regression) on a scatter plot (the observations)"
   ]
  },
  {
   "cell_type": "code",
   "execution_count": null,
   "metadata": {},
   "outputs": [],
   "source": []
  },
  {
   "cell_type": "markdown",
   "metadata": {},
   "source": [
    "8. (c) Use the `plot()` function to produce diagnostic plots of the least squares regression fit. Comment on any problems you see with the fit.\n",
    "\n",
    "May need to come back and correct the function call. \n",
    "I think you are supposed to compare the observational data with your predictions on a scatter plot"
   ]
  },
  {
   "cell_type": "code",
   "execution_count": null,
   "metadata": {},
   "outputs": [],
   "source": []
  },
  {
   "cell_type": "markdown",
   "metadata": {},
   "source": [
    "### Problem 9"
   ]
  },
  {
   "cell_type": "markdown",
   "metadata": {},
   "source": [
    "This question involves the use of multiple linear regression on the `Auto` data."
   ]
  },
  {
   "cell_type": "markdown",
   "metadata": {},
   "source": [
    "9. (a) Produce a scatterplot matrix which includes all of the variables in the data set.\n",
    "\n",
    "Check function calls"
   ]
  },
  {
   "cell_type": "code",
   "execution_count": null,
   "metadata": {},
   "outputs": [],
   "source": []
  },
  {
   "cell_type": "markdown",
   "metadata": {},
   "source": [
    "9. (b) Computee the matrix of correlations between the variables using the function `pd.DataFrame.corr()`. You will need to exclude the `name` variable, which is qualitative\n",
    "\n",
    "Go back and check the function calls"
   ]
  },
  {
   "cell_type": "code",
   "execution_count": null,
   "metadata": {},
   "outputs": [],
   "source": []
  },
  {
   "cell_type": "markdown",
   "metadata": {},
   "source": [
    "9. (c) Use the `sm.OLS` function to perform a multiple linear regression with `mpg` as the response and all other variables except `name` as the predictors. "
   ]
  },
  {
   "cell_type": "code",
   "execution_count": null,
   "metadata": {},
   "outputs": [],
   "source": []
  },
  {
   "cell_type": "markdown",
   "metadata": {},
   "source": [
    "Use the `pd.DataFrame.describe()` function to print the results. Comment on the output. "
   ]
  },
  {
   "cell_type": "code",
   "execution_count": null,
   "metadata": {},
   "outputs": [],
   "source": []
  },
  {
   "cell_type": "markdown",
   "metadata": {},
   "source": [
    "(c) i. Is there a relationship between the predictors and the response?"
   ]
  },
  {
   "cell_type": "code",
   "execution_count": null,
   "metadata": {},
   "outputs": [],
   "source": []
  },
  {
   "cell_type": "markdown",
   "metadata": {},
   "source": [
    "(c) ii. Which predictors appear to have a statistically significant relationship to the response?"
   ]
  },
  {
   "cell_type": "code",
   "execution_count": null,
   "metadata": {},
   "outputs": [],
   "source": []
  },
  {
   "cell_type": "markdown",
   "metadata": {},
   "source": [
    "(c) iii. What does the coefficient for the `year` variable suggest?"
   ]
  },
  {
   "cell_type": "code",
   "execution_count": null,
   "metadata": {},
   "outputs": [],
   "source": []
  },
  {
   "cell_type": "markdown",
   "metadata": {},
   "source": [
    "(d) Use the `plot()` function to produce diagnostic plots of the linear regression fit. Comment on any problems you see with the fit. \n",
    "\n",
    "Do the residual plots suggest any unusually large outliers? Does the leverage plot identify any observations with unusually high leverage?\n",
    "\n",
    "May not have as easy access to residual or leverage plots..."
   ]
  },
  {
   "cell_type": "code",
   "execution_count": null,
   "metadata": {},
   "outputs": [],
   "source": []
  },
  {
   "cell_type": "markdown",
   "metadata": {},
   "source": [
    "(e) Use the `*` and `:` symbols to fit linear regression models with interaction effects. Do any interactions appear to be statistically significant?\n",
    "\n",
    "Need to figure out what these R operators are.\n",
    "\n",
    "`*` might just be multiply and `:` seems to be a sequence generator"
   ]
  },
  {
   "cell_type": "code",
   "execution_count": null,
   "metadata": {},
   "outputs": [],
   "source": []
  },
  {
   "cell_type": "markdown",
   "metadata": {},
   "source": [
    "(f) Try a few different transformations of the variables, such as `log`, `sqrt`, and `power`. Comment on your findings"
   ]
  },
  {
   "cell_type": "code",
   "execution_count": null,
   "metadata": {},
   "outputs": [],
   "source": []
  },
  {
   "cell_type": "markdown",
   "metadata": {},
   "source": [
    "### Problem 10"
   ]
  },
  {
   "cell_type": "markdown",
   "metadata": {},
   "source": [
    "This question uses the `Carseats` data set."
   ]
  },
  {
   "cell_type": "markdown",
   "metadata": {},
   "source": [
    "(a) Fit a multiple regression model to predict `Sales` using `Price`, `Urban`, and `US`"
   ]
  },
  {
   "cell_type": "code",
   "execution_count": null,
   "metadata": {},
   "outputs": [],
   "source": []
  },
  {
   "cell_type": "markdown",
   "metadata": {},
   "source": [
    "(b) Provide an interpretation of each coefficient in the model. Be careful! Some of the variables in the model are qualitative!"
   ]
  },
  {
   "cell_type": "code",
   "execution_count": null,
   "metadata": {},
   "outputs": [],
   "source": []
  },
  {
   "cell_type": "markdown",
   "metadata": {},
   "source": [
    "(c) Write out the model in equation form, being careful to handle the qualtitative variables properly."
   ]
  },
  {
   "cell_type": "code",
   "execution_count": null,
   "metadata": {},
   "outputs": [],
   "source": []
  },
  {
   "cell_type": "markdown",
   "metadata": {},
   "source": [
    "(d) For which of the predictors can you reject the null hypothesis *H_{0}*: *Beta_{j}* = 0 ?\n",
    "\n",
    "convert to math"
   ]
  },
  {
   "cell_type": "code",
   "execution_count": null,
   "metadata": {},
   "outputs": [],
   "source": []
  },
  {
   "cell_type": "markdown",
   "metadata": {},
   "source": [
    "(e) On the basis of your response to the previous question, fit a smaller model that only uses the predictors for which there is evidence of association with the outcome."
   ]
  },
  {
   "cell_type": "code",
   "execution_count": null,
   "metadata": {},
   "outputs": [],
   "source": []
  },
  {
   "cell_type": "markdown",
   "metadata": {},
   "source": [
    "(f) How well do the models in (a) and (e) fit the data?"
   ]
  },
  {
   "cell_type": "code",
   "execution_count": null,
   "metadata": {},
   "outputs": [],
   "source": []
  },
  {
   "cell_type": "markdown",
   "metadata": {},
   "source": [
    "(g) Using the model from (e), obtain 95% confidence intervals for the coefficient(s)"
   ]
  },
  {
   "cell_type": "code",
   "execution_count": null,
   "metadata": {},
   "outputs": [],
   "source": []
  },
  {
   "cell_type": "markdown",
   "metadata": {},
   "source": [
    "(h) Is there evidence of outliers or high leverage observations in the model from (e)?"
   ]
  },
  {
   "cell_type": "code",
   "execution_count": null,
   "metadata": {},
   "outputs": [],
   "source": []
  },
  {
   "cell_type": "markdown",
   "metadata": {},
   "source": [
    "### Problem 11"
   ]
  },
  {
   "cell_type": "markdown",
   "metadata": {},
   "source": [
    "In this problem we will investigate the *t*-statistic for the null hypothesis *H_{0}* : *β* = 0 in simple linear regression without an intercept. To\n",
    "begin, we generate a predictor `x` and a response `y` as follows."
   ]
  },
  {
   "cell_type": "code",
   "execution_count": null,
   "metadata": {},
   "outputs": [],
   "source": [
    "numpy_randomGen = Generator(PCG64(scipy_seed))  # This random seed has to be used in each numpy cell after\n",
    "x = stats.norm\n",
    "x.random_state = numpy_randomGen\n",
    "x_vec = x.rvs(size=100,\n",
    "                random_state=x.random_state)\n",
    "\n",
    "y_scipy_seed = 1305\n",
    "y_numpy_randomGen = Generator(PCG64(y_scipy_seed))\n",
    "y = stats.norm\n",
    "y.random_state = y_numpy_randomGen\n",
    "\n",
    "y_vec = 2 * x_vec + y.rvs(size=100, random_state=y.random_state)"
   ]
  },
  {
   "cell_type": "markdown",
   "metadata": {},
   "source": [
    "(a) Perform a simple linear regression of `y` onto `x`, *without* an intercept. Report the coefficient estimate *βˆ*, the standard error of\n",
    "this coefficient estimate, and the t-statistic and p-value associated with the null hypothesis *H0* : *β* = 0. Comment on these\n",
    "results. (You can perform regression without an intercept using\n",
    "the command stats.linregress.)"
   ]
  },
  {
   "cell_type": "code",
   "execution_count": null,
   "metadata": {},
   "outputs": [],
   "source": []
  },
  {
   "cell_type": "markdown",
   "metadata": {},
   "source": [
    "(b) Now perform a simple linear regression of x onto y without an\n",
    "intercept, and report the coefficient estimate, its standard error,\n",
    "and the corresponding t-statistic and p-values associated with\n",
    "the null hypothesis *H0* : *β* = 0. Comment on these results."
   ]
  },
  {
   "cell_type": "code",
   "execution_count": null,
   "metadata": {},
   "outputs": [],
   "source": []
  },
  {
   "cell_type": "markdown",
   "metadata": {},
   "source": [
    "(c) What is the relationship between the results obtained in (a) and\n",
    "(b)?"
   ]
  },
  {
   "cell_type": "code",
   "execution_count": null,
   "metadata": {},
   "outputs": [],
   "source": []
  },
  {
   "cell_type": "markdown",
   "metadata": {},
   "source": [
    "(d) For the regression of Y onto X without an intercept, the tstatistic for H0 : β = 0 takes the form βˆ/SE(βˆ), where βˆ is\n",
    "given by (3.38), and where\n",
    "SE(βˆ) = @)n\n",
    "i=1(yi − xiβˆ)2\n",
    "(n − 1))n\n",
    "i′=1 x2\n",
    "i′\n",
    ".\n",
    "(These formulas are slightly different from those given in Sections 3.1.1 and 3.1.2, since here we are performing regression\n",
    "without an intercept.) Show algebraically, and confirm numerically in R, that the t-statistic can be written as\n",
    "(\n",
    "√n − 1))n\n",
    "i=1 xiyi\n",
    "5(\n",
    ")n\n",
    "i=1 x2\n",
    "i )()n\n",
    "i′=1 y2\n",
    "i′ ) − (\n",
    ")n\n",
    "i′=1 xi′yi′ )2 ."
   ]
  },
  {
   "cell_type": "code",
   "execution_count": null,
   "metadata": {},
   "outputs": [],
   "source": []
  },
  {
   "cell_type": "markdown",
   "metadata": {},
   "source": [
    "(e) Using the results from (d), argue that the t-statistic for the regression of y onto x is the same as the t-statistic for the regression\n",
    "of x onto y."
   ]
  },
  {
   "cell_type": "code",
   "execution_count": null,
   "metadata": {},
   "outputs": [],
   "source": []
  },
  {
   "cell_type": "markdown",
   "metadata": {},
   "source": [
    "(f) In R, show that when regression is performed with an intercept,\n",
    "the t-statistic for H0 : β1 = 0 is the same for the regression of y\n",
    "onto x as it is for the regression of x onto y."
   ]
  },
  {
   "cell_type": "code",
   "execution_count": null,
   "metadata": {},
   "outputs": [],
   "source": []
  },
  {
   "cell_type": "markdown",
   "metadata": {},
   "source": [
    "### Problem 12\n",
    "\n",
    "This problem involves simple linear regression without an intercept."
   ]
  },
  {
   "cell_type": "markdown",
   "metadata": {},
   "source": [
    "(a) Recall that the coefficient estimate βˆ for the linear regression of\n",
    "Y onto X without an intercept is given by (3.38). Under what\n",
    "circumstance is the coefficient estimate for the regression of X\n",
    "onto Y the same as the coefficient estimate for the regression of\n",
    "Y onto X?"
   ]
  },
  {
   "cell_type": "code",
   "execution_count": null,
   "metadata": {},
   "outputs": [],
   "source": []
  },
  {
   "cell_type": "markdown",
   "metadata": {},
   "source": [
    "(b) Generate an example in R with n = 100 observations in which\n",
    "the coefficient estimate for the regression of X onto Y is different\n",
    "from the coefficient estimate for the regression of Y onto X."
   ]
  },
  {
   "cell_type": "code",
   "execution_count": null,
   "metadata": {},
   "outputs": [],
   "source": []
  },
  {
   "cell_type": "markdown",
   "metadata": {},
   "source": [
    "(c) Generate an example in R with n = 100 observations in which\n",
    "the coefficient estimate for the regression of X onto Y is the\n",
    "same as the coefficient estimate for the regression of Y onto X."
   ]
  },
  {
   "cell_type": "markdown",
   "metadata": {},
   "source": [
    "### Problem 13\n",
    "\n",
    "In this exercise you will create some simulated data and will fit simple\n",
    "linear regression models to it. Make sure to use set.seed(1) prior to\n",
    "starting part (a) to ensure consistent results."
   ]
  },
  {
   "cell_type": "markdown",
   "metadata": {},
   "source": [
    "13. (a) Using the rnorm() function, create a vector, x, containing 100\n",
    "observations drawn from a N(0, 1) distribution. This represents\n",
    "a feature, X."
   ]
  },
  {
   "cell_type": "code",
   "execution_count": null,
   "metadata": {},
   "outputs": [],
   "source": []
  },
  {
   "cell_type": "markdown",
   "metadata": {},
   "source": [
    "13. (b) Using the rnorm() function, create a vector, eps, containing 100\n",
    "observations drawn from a N(0, 0.25) distribution—a normal\n",
    "distribution with mean zero and variance 0.25."
   ]
  },
  {
   "cell_type": "code",
   "execution_count": null,
   "metadata": {},
   "outputs": [],
   "source": []
  },
  {
   "cell_type": "markdown",
   "metadata": {},
   "source": [
    "13. (c) Using x and eps, generate a vector y according to the model\n",
    "Y = −1+0.5X + ϵ. (3.39)\n",
    "What is the length of the vector y? What are the values of β0\n",
    "and β1 in this linear model?"
   ]
  },
  {
   "cell_type": "code",
   "execution_count": null,
   "metadata": {},
   "outputs": [],
   "source": []
  },
  {
   "cell_type": "markdown",
   "metadata": {},
   "source": [
    "13. (d) Create a scatterplot displaying the relationship between x and\n",
    "y. Comment on what you observe."
   ]
  },
  {
   "cell_type": "code",
   "execution_count": null,
   "metadata": {},
   "outputs": [],
   "source": []
  },
  {
   "cell_type": "markdown",
   "metadata": {},
   "source": [
    "13. (e) Fit a least squares linear model to predict y using x. Comment\n",
    "on the model obtained. How do βˆ0 and βˆ1 compare to β0 and\n",
    "β1?"
   ]
  },
  {
   "cell_type": "code",
   "execution_count": null,
   "metadata": {},
   "outputs": [],
   "source": []
  },
  {
   "cell_type": "markdown",
   "metadata": {},
   "source": [
    "13. (f) Display the least squares line on the scatterplot obtained in (d).\n",
    "Draw the population regression line on the plot, in a different\n",
    "color. Use the legend() command to create an appropriate legend."
   ]
  },
  {
   "cell_type": "code",
   "execution_count": null,
   "metadata": {},
   "outputs": [],
   "source": []
  },
  {
   "cell_type": "markdown",
   "metadata": {},
   "source": [
    "13. (g) Now fit a polynomial regression model that predicts y using x\n",
    "and x2. Is there evidence that the quadratic term improves the\n",
    "model fit? Explain your answer."
   ]
  },
  {
   "cell_type": "code",
   "execution_count": null,
   "metadata": {},
   "outputs": [],
   "source": []
  },
  {
   "cell_type": "markdown",
   "metadata": {},
   "source": [
    "13. (h) Repeat (a)–(f) after modifying the data generation process in\n",
    "such a way that there is less noise in the data. The model (3.39)\n",
    "should remain the same. You can do this by decreasing the variance of the normal distribution used to generate the error term\n",
    "ϵ in (b). Describe your results."
   ]
  },
  {
   "cell_type": "code",
   "execution_count": null,
   "metadata": {},
   "outputs": [],
   "source": []
  },
  {
   "cell_type": "markdown",
   "metadata": {},
   "source": [
    "13. (i) Repeat (a)–(f) after modifying the data generation process in\n",
    "such a way that there is more noise in the data. The model\n",
    "(3.39) should remain the same. You can do this by increasing\n",
    "the variance of the normal distribution used to generate the\n",
    "error term ϵ in (b). Describe your results."
   ]
  },
  {
   "cell_type": "code",
   "execution_count": null,
   "metadata": {},
   "outputs": [],
   "source": []
  },
  {
   "cell_type": "markdown",
   "metadata": {},
   "source": [
    "13. (j) What are the confidence intervals for β0 and β1 based on the\n",
    "original data set, the noisier data set, and the less noisy data\n",
    "set? Comment on your results."
   ]
  },
  {
   "cell_type": "code",
   "execution_count": null,
   "metadata": {},
   "outputs": [],
   "source": []
  },
  {
   "cell_type": "markdown",
   "metadata": {},
   "source": [
    "### Problem 14\n",
    "This problem focuses on the collinearity problem"
   ]
  },
  {
   "cell_type": "markdown",
   "metadata": {},
   "source": [
    "14. (a) Perform the following commands in Python with scipy and numpy:\n",
    "> np.random.seed(200) \n",
    "> \n",
    "> x1 = stats.uniform\n",
    "> \n",
    "> x1_vec = x1.rvs(size=100)\n",
    "> \n",
    "> x2 = 0.5 * x1 + rnorm (100) / 10\n",
    "> \n",
    "> y = 2 + 2 * x1 + 0.3 * x2 + rnorm (100)\n",
    "\n",
    "\n",
    "The last line corresponds to creating a linear model in which y is\n",
    "a function of x1 and x2. Write out the form of the linear model.\n",
    "What are the regression coefficients?"
   ]
  },
  {
   "cell_type": "code",
   "execution_count": null,
   "metadata": {},
   "outputs": [],
   "source": []
  },
  {
   "cell_type": "markdown",
   "metadata": {},
   "source": [
    "14. (b) What is the correlation between x1 and x2? Create a scatterplot\n",
    "displaying the relationship between the variables."
   ]
  },
  {
   "cell_type": "code",
   "execution_count": null,
   "metadata": {},
   "outputs": [],
   "source": []
  },
  {
   "cell_type": "markdown",
   "metadata": {},
   "source": [
    "14. (c) Using this data, fit a least squares regression to predict y using\n",
    "x1 and x2. Describe the results obtained. What are βˆ0, βˆ1, and\n",
    "βˆ2? How do these relate to the true β0, β1, and β2? Can you\n",
    "reject the null hypothesis H0 : β1 = 0? How about the null\n",
    "hypothesis H0 : β2 = 0?"
   ]
  },
  {
   "cell_type": "code",
   "execution_count": null,
   "metadata": {},
   "outputs": [],
   "source": []
  },
  {
   "cell_type": "markdown",
   "metadata": {},
   "source": [
    "14. (d) Now fit a least squares regression to predict y using only x1.\n",
    "Comment on your results. Can you reject the null hypothesis\n",
    "H0 : β1 = 0?"
   ]
  },
  {
   "cell_type": "code",
   "execution_count": null,
   "metadata": {},
   "outputs": [],
   "source": []
  },
  {
   "cell_type": "markdown",
   "metadata": {},
   "source": [
    "14. (e) Now fit a least squares regression to predict y using only x2.\n",
    "Comment on your results. Can you reject the null hypothesis\n",
    "H0 : β1 = 0?"
   ]
  },
  {
   "cell_type": "code",
   "execution_count": null,
   "metadata": {},
   "outputs": [],
   "source": []
  },
  {
   "cell_type": "markdown",
   "metadata": {},
   "source": [
    "14. (f) Do the results obtained in (c)–(e) contradict each other? Explain\n",
    "your answer."
   ]
  },
  {
   "cell_type": "markdown",
   "metadata": {},
   "source": []
  },
  {
   "cell_type": "code",
   "execution_count": null,
   "metadata": {},
   "outputs": [],
   "source": []
  },
  {
   "cell_type": "markdown",
   "metadata": {},
   "source": [
    "14. (g) Now suppose we obtain one additional observation, which was\n",
    "unfortunately mismeasured.\n",
    "> x1 <- c(x1 , 0.1)\n",
    "> \n",
    "> x2 <- c(x2 , 0.8)\n",
    "> \n",
    "> y <- c(y, 6)\n",
    "\n",
    "\n",
    "Re-fit the linear models from (c) to (e) using this new data. What\n",
    "effect does this new observation have on the each of the models?\n",
    "In each model, is this observation an outlier? A high-leverage\n",
    "point? Both? Explain your answers."
   ]
  },
  {
   "cell_type": "code",
   "execution_count": null,
   "metadata": {},
   "outputs": [],
   "source": []
  },
  {
   "cell_type": "markdown",
   "metadata": {},
   "source": [
    "### Problem 15\n",
    "\n",
    "This problem involves the Boston data set, which we saw in the lab\n",
    "for this chapter. We will now try to predict per capita crime rate\n",
    "using the other variables in this data set. In other words, per capita\n",
    "crime rate is the response, and the other variables are the predictors."
   ]
  },
  {
   "cell_type": "markdown",
   "metadata": {},
   "source": [
    "15. (a) For each predictor, fit a simple linear regression model to predict\n",
    "the response. Describe your results. In which of the models is\n",
    "there a statistically significant association between the predictor\n",
    "and the response? Create some plots to back up your assertions."
   ]
  },
  {
   "cell_type": "code",
   "execution_count": null,
   "metadata": {},
   "outputs": [],
   "source": []
  },
  {
   "cell_type": "markdown",
   "metadata": {},
   "source": [
    "15. (b) Fit a multiple regression model to predict the response using\n",
    "all of the predictors. Describe your results. For which predictors\n",
    "can we reject the null hypothesis H0 : βj = 0?"
   ]
  },
  {
   "cell_type": "code",
   "execution_count": null,
   "metadata": {},
   "outputs": [],
   "source": []
  },
  {
   "cell_type": "markdown",
   "metadata": {},
   "source": [
    "15. (c) How do your results from (a) compare to your results from (b)?\n",
    "Create a plot displaying the univariate regression coefficients\n",
    "from (a) on the x-axis, and the multiple regression coefficients\n",
    "from (b) on the y-axis. That is, each predictor is displayed as a\n",
    "single point in the plot. Its coefficient in a simple linear regression model is shown on the x-axis, and its coefficient estimate\n",
    "in the multiple linear regression model is shown on the y-axis."
   ]
  },
  {
   "cell_type": "code",
   "execution_count": null,
   "metadata": {},
   "outputs": [],
   "source": []
  },
  {
   "cell_type": "markdown",
   "metadata": {},
   "source": [
    "15. (d) Is there evidence of non-linear association between any of the\n",
    "predictors and the response? To answer this question, for each\n",
    "predictor X, fit a model of the form\n",
    "Y = β0 + β1X + β2X2 + β3X3 + ϵ"
   ]
  },
  {
   "cell_type": "code",
   "execution_count": 11,
   "metadata": {},
   "outputs": [
    {
     "name": "stdout",
     "output_type": "stream",
     "text": [
      "Intercept: 34.55384087938311, Intercept StdErr: 0.562627354988433\n",
      "Slope: -0.9500493537579909, Slope StdErr: 0.038733416212639406\n",
      "P value: 5.081103394386929e-88\n",
      "Pearson correlation coefficient (r): -0.7376627261740151\n"
     ]
    }
   ],
   "source": [
    "result = stats.linregress(x=boston_dataframe['lstat'], y=boston_dataframe['medv'])\n",
    "print(\"Intercept: \" + str(result.intercept) + \", Intercept StdErr: \" + str(result.intercept_stderr))\n",
    "print(\"Slope: \" + str(result.slope) + \", Slope StdErr: \" + str(result.stderr))\n",
    "print(\"P value: \" + str(result.pvalue))\n",
    "print(\"Pearson correlation coefficient (r): \" + str(result.rvalue))"
   ]
  },
  {
   "cell_type": "markdown",
   "metadata": {},
   "source": []
  },
  {
   "cell_type": "code",
   "execution_count": 7,
   "metadata": {},
   "outputs": [
    {
     "data": {
      "text/plain": [
       "34.55384087938311"
      ]
     },
     "execution_count": 7,
     "metadata": {},
     "output_type": "execute_result"
    }
   ],
   "source": [
    "# see the print outs/results from the lm() given in the text. How to add things like quantiles, residuals, residual standard error. Demo also calculates Multiple R-squared, Adjusted R-squared, F-statistic, although those values seem to be not necessary for simple linear regression"
   ]
  },
  {
   "cell_type": "code",
   "execution_count": null,
   "metadata": {},
   "outputs": [],
   "source": []
  }
 ],
 "metadata": {
  "interpreter": {
   "hash": "5669dfe12a2d82aa1b3191b510b728236d6d281b189b67e61730db0cb7f185c6"
  },
  "kernelspec": {
   "display_name": "Python 3.8.12 64-bit",
   "language": "python",
   "name": "python3"
  },
  "language_info": {
   "codemirror_mode": {
    "name": "ipython",
    "version": 3
   },
   "file_extension": ".py",
   "mimetype": "text/x-python",
   "name": "python",
   "nbconvert_exporter": "python",
   "pygments_lexer": "ipython3",
   "version": "3.8.12"
  },
  "orig_nbformat": 4
 },
 "nbformat": 4,
 "nbformat_minor": 2
}
